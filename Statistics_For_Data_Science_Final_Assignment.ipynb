{
 "cells": [
  {
   "cell_type": "markdown",
   "id": "292b1987",
   "metadata": {},
   "source": [
    "# Statistics for Data Science with Python - Final Assignment"
   ]
  },
  {
   "cell_type": "code",
   "execution_count": 1,
   "id": "34c2ecb8",
   "metadata": {},
   "outputs": [],
   "source": [
    "import pandas as pd\n",
    "import numpy as np\n",
    "import matplotlib.pyplot as plt\n",
    "import seaborn as sns\n",
    "import scipy.stats\n",
    "import statsmodels.api as sm"
   ]
  },
  {
   "cell_type": "markdown",
   "id": "78c6c3ce",
   "metadata": {},
   "source": [
    "## Become familiar with the dataset"
   ]
  },
  {
   "cell_type": "markdown",
   "id": "8266e182",
   "metadata": {},
   "source": [
    "The following describes the dataset variables:\n",
    "* CRIM - per capita crime rate by town\n",
    "* ZN - proportion of residential land zoned for lots over 25,000 sq.ft.\n",
    "* INDUS - proportion of non-retail business acres per town.\n",
    "* CHAS - Charles River dummy variable (1 if tract bounds river; 0 otherwise)\n",
    "* NOX - nitric oxides concentration (parts per 10 million)\n",
    "* RM - average number of rooms per dwelling\n",
    "* AGE - proportion of owner-occupied units built prior to 1940\n",
    "* DIS - weighted distances to five Boston employment centres\n",
    "* RAD - index of accessibility to radial highways\n",
    "* TAX - full-value property-tax rate per \\\\$10,000\n",
    "* PTRATIO - pupil-teacher ratio by town\n",
    "* LSTAT - % lower status of the population\n",
    "* MEDV - Median value of owner-occupied homes in \\\\$1000's"
   ]
  },
  {
   "cell_type": "markdown",
   "id": "7697e610",
   "metadata": {},
   "source": [
    "## Load in the Dataset in your Jupyter Notebook"
   ]
  },
  {
   "cell_type": "markdown",
   "id": "a3a6d0d0",
   "metadata": {},
   "source": [
    "In the Jupyter notebook you created in the previous task, add a code cell, and copy the contents below to load the Boston housing dataset in the notebook:"
   ]
  },
  {
   "cell_type": "code",
   "execution_count": 2,
   "id": "cb8ba38c",
   "metadata": {},
   "outputs": [],
   "source": [
    "boston_url = 'https://cf-courses-data.s3.us.cloud-object-storage.appdomain.cloud/IBMDeveloperSkillsNetwork-ST0151EN-SkillsNetwork/labs/boston_housing.csv'\n",
    "boston_df=pd.read_csv(boston_url)"
   ]
  },
  {
   "cell_type": "markdown",
   "id": "d47345e3",
   "metadata": {},
   "source": [
    "## Generate Descriptive Statistics and Visualizations"
   ]
  },
  {
   "cell_type": "markdown",
   "id": "6535a976",
   "metadata": {},
   "source": [
    "For the \"Median value of owner-occupied homes\" provide a boxplot"
   ]
  },
  {
   "cell_type": "markdown",
   "id": "bc7b6ce5",
   "metadata": {},
   "source": [
    "For the \"Median value of owner-occupied homes\" provide a boxplot"
   ]
  },
  {
   "cell_type": "code",
   "execution_count": 3,
   "id": "91870026",
   "metadata": {},
   "outputs": [
    {
     "data": {
      "text/plain": [
       "Text(0.5, 1.0, 'owner-occupied homes')"
      ]
     },
     "execution_count": 3,
     "metadata": {},
     "output_type": "execute_result"
    },
    {
     "data": {
      "image/png": "[encoded data removed]",
      "text/plain": [
       "<Figure size 432x288 with 1 Axes>"
      ]
     },
     "metadata": {
      "needs_background": "light"
     },
     "output_type": "display_data"
    }
   ],
   "source": [
    "bp = sns.boxplot(y = 'MEDV', data = boston_df)\n",
    "bp.set_title('owner-occupied homes')"
   ]
  },
  {
   "cell_type": "markdown",
   "id": "e23cfae9",
   "metadata": {},
   "source": [
    "Box Plot minimum value, the first quartile, the median, the third quartile, and the maximum value for MEDV"
   ]
  },
  {
   "cell_type": "markdown",
   "id": "01771d28",
   "metadata": {},
   "source": [
    "Provide a  bar plot for the Charles river variable"
   ]
  },
  {
   "cell_type": "code",
   "execution_count": 4,
   "id": "0c859c24",
   "metadata": {},
   "outputs": [
    {
     "data": {
      "text/plain": [
       "Text(0.5, 1.0, 'number of homes')"
      ]
     },
     "execution_count": 4,
     "metadata": {},
     "output_type": "execute_result"
    },
    {
     "data": {
      "image/png": "[encoded data removed]",
      "text/plain": [
       "<Figure size 432x288 with 1 Axes>"
      ]
     },
     "metadata": {
      "needs_background": "light"
     },
     "output_type": "display_data"
    }
   ],
   "source": [
    "hist = sns.countplot(x = 'CHAS', data = boston_df)\n",
    "hist.set_title('number of homes')"
   ]
  },
  {
   "cell_type": "markdown",
   "id": "b0c98ab3",
   "metadata": {},
   "source": [
    "Most of the homes are not near the Charles River"
   ]
  },
  {
   "cell_type": "markdown",
   "id": "db5653c5",
   "metadata": {},
   "source": [
    "Provide a boxplot for the MEDV variable vs the AGE variable. \n",
    "(Discretize the age variable into three groups of 35 years and younger, between 35 and 70 years and 70 years and older)"
   ]
  },
  {
   "cell_type": "code",
   "execution_count": 5,
   "id": "bb50e13d",
   "metadata": {},
   "outputs": [
    {
     "data": {
      "text/plain": [
       "Text(0.5, 1.0, 'MEDV variable vs the AGE variable')"
      ]
     },
     "execution_count": 5,
     "metadata": {},
     "output_type": "execute_result"
    },
    {
     "data": {
      "image/png": "[encoded data removed]",
      "text/plain": [
       "<Figure size 432x288 with 1 Axes>"
      ]
     },
     "metadata": {
      "needs_background": "light"
     },
     "output_type": "display_data"
    }
   ],
   "source": [
    "boston_df.loc[(boston_df['AGE'] <= 35), 'Age_Range'] = '35 years and younger'\n",
    "boston_df.loc[(boston_df['AGE'] > 35) & (boston_df['AGE'] < 70), 'Age_Range'] = '36 to 69 years'\n",
    "boston_df.loc[(boston_df['AGE'] >= 70), 'Age_Range'] = '70 years and older'\n",
    "\n",
    "bp2 = sns.boxplot(x = 'MEDV', y = 'Age_Range', data = boston_df)\n",
    "bp2.set_title('MEDV variable vs the AGE variable')"
   ]
  },
  {
   "cell_type": "markdown",
   "id": "0904206c",
   "metadata": {},
   "source": [
    "MEDV appears to be inversely coorelated to age"
   ]
  },
  {
   "cell_type": "markdown",
   "id": "9e2f6330",
   "metadata": {},
   "source": [
    "Provide a scatter plot to show the relationship between Nitric oxide concentrations and the proportion of non-retail business acres per town. \n",
    "What can you say about the relationship?"
   ]
  },
  {
   "cell_type": "code",
   "execution_count": 6,
   "id": "43eebbff",
   "metadata": {},
   "outputs": [
    {
     "data": {
      "text/plain": [
       "Text(0.5, 1.0, 'Nitric oxide concentrations and the proportion of non-retail business acres per town')"
      ]
     },
     "execution_count": 6,
     "metadata": {},
     "output_type": "execute_result"
    },
    {
     "data": {
      "image/png": "[encoded data removed]",
      "text/plain": [
       "<Figure size 432x288 with 1 Axes>"
      ]
     },
     "metadata": {
      "needs_background": "light"
     },
     "output_type": "display_data"
    }
   ],
   "source": [
    "sp = sns.scatterplot(y = 'NOX', x = 'INDUS', data = boston_df)\n",
    "sp.set_title('Nitric oxide concentrations and the proportion of non-retail business acres per town')"
   ]
  },
  {
   "cell_type": "markdown",
   "id": "49d297d3",
   "metadata": {},
   "source": [
    "NOX and INDUS appear to be coorelated - The more business acres, the more nitric oxide"
   ]
  },
  {
   "cell_type": "markdown",
   "id": "954cba47",
   "metadata": {},
   "source": [
    "Create a histogram for the pupil to teacher ratio variable"
   ]
  },
  {
   "cell_type": "code",
   "execution_count": 7,
   "id": "58cdf044",
   "metadata": {},
   "outputs": [
    {
     "data": {
      "text/plain": [
       "Text(0.5, 1.0, 'pupil to teacher ratio')"
      ]
     },
     "execution_count": 7,
     "metadata": {},
     "output_type": "execute_result"
    },
    {
     "data": {
      "image/png": "[encoded data removed]",
      "text/plain": [
       "<Figure size 432x288 with 1 Axes>"
      ]
     },
     "metadata": {
      "needs_background": "light"
     },
     "output_type": "display_data"
    }
   ],
   "source": [
    "hist2 = sns.countplot(y = 'PTRATIO', data = boston_df)\n",
    "hist2.set_title('pupil to teacher ratio')"
   ]
  },
  {
   "cell_type": "markdown",
   "id": "7afa8ef2",
   "metadata": {},
   "source": [
    "## Use the appropriate tests to answer the questions provided"
   ]
  },
  {
   "cell_type": "markdown",
   "id": "83c48c16",
   "metadata": {},
   "source": [
    "Is there a significant difference in median value of houses bounded by the Charles river or not? \n",
    "(T-test for independent samples)"
   ]
  },
  {
   "cell_type": "code",
   "execution_count": 8,
   "id": "e6c4a4c3",
   "metadata": {},
   "outputs": [
    {
     "data": {
      "text/plain": [
       "Ttest_indResult(statistic=-3.996437466090509, pvalue=7.390623170519905e-05)"
      ]
     },
     "execution_count": 8,
     "metadata": {},
     "output_type": "execute_result"
    }
   ],
   "source": [
    "boston_df.loc[(boston_df['CHAS'] == 0), 'CHAS_A'] = 'FAR'\n",
    "boston_df.loc[(boston_df['CHAS'] == 1), 'CHAS_A'] = 'NEAR'\n",
    "\n",
    "scipy.stats.ttest_ind(boston_df[boston_df['CHAS_A'] == 'FAR']['MEDV'], \n",
    "                      boston_df[boston_df['CHAS_A'] == 'NEAR']['MEDV'], equal_var = True)"
   ]
  },
  {
   "cell_type": "markdown",
   "id": "02567937",
   "metadata": {},
   "source": [
    "Reject the Null Hypothesis"
   ]
  },
  {
   "cell_type": "markdown",
   "id": "ab22a961",
   "metadata": {},
   "source": [
    "Is there a difference in Median values of houses (MEDV) for each proportion of owner occupied units built prior to 1940 (AGE)? (ANOVA)"
   ]
  },
  {
   "cell_type": "code",
   "execution_count": 9,
   "id": "da6633df",
   "metadata": {},
   "outputs": [
    {
     "name": "stdout",
     "output_type": "stream",
     "text": [
      "             df        sum_sq      mean_sq          F        PR(>F)\n",
      "AGE         1.0   6069.761065  6069.761065  83.477459  1.569982e-18\n",
      "Residual  504.0  36646.534350    72.711378        NaN           NaN\n"
     ]
    }
   ],
   "source": [
    "from statsmodels.formula.api import ols\n",
    "lm = ols('MEDV ~ AGE', data = boston_df).fit()\n",
    "table = sm.stats.anova_lm(lm)\n",
    "print(table)"
   ]
  },
  {
   "cell_type": "markdown",
   "id": "9692970d",
   "metadata": {},
   "source": [
    "Failed to accept the Null Hypothesis"
   ]
  },
  {
   "cell_type": "markdown",
   "id": "c091db6f",
   "metadata": {},
   "source": [
    "Can we conclude that there is no relationship between Nitric oxide concentrations and proportion of non-retail business acres per town? (Pearson Correlation)"
   ]
  },
  {
   "cell_type": "code",
   "execution_count": 10,
   "id": "b24b54c3",
   "metadata": {},
   "outputs": [
    {
     "data": {
      "text/plain": [
       "(0.763651446920915, 7.913361061239593e-98)"
      ]
     },
     "execution_count": 10,
     "metadata": {},
     "output_type": "execute_result"
    }
   ],
   "source": [
    "scipy.stats.pearsonr(boston_df['NOX'], boston_df['INDUS'])"
   ]
  },
  {
   "cell_type": "markdown",
   "id": "f46d14f3",
   "metadata": {},
   "source": [
    "Reject the Null Hypothesis"
   ]
  },
  {
   "cell_type": "markdown",
   "id": "fbb8f3fa",
   "metadata": {},
   "source": [
    "What is the impact of an additional weighted distance  to the five Boston employment centres on the median value of owner occupied homes? (Regression analysis)"
   ]
  },
  {
   "cell_type": "code",
   "execution_count": 11,
   "id": "0ea3e350",
   "metadata": {},
   "outputs": [
    {
     "data": {
      "text/html": [
       "<table class=\"simpletable\">\n",
       "<caption>OLS Regression Results</caption>\n",
       "<tr>\n",
       "  <th>Dep. Variable:</th>          <td>MEDV</td>       <th>  R-squared:         </th> <td>   0.062</td>\n",
       "</tr>\n",
       "<tr>\n",
       "  <th>Model:</th>                   <td>OLS</td>       <th>  Adj. R-squared:    </th> <td>   0.061</td>\n",
       "</tr>\n",
       "<tr>\n",
       "  <th>Method:</th>             <td>Least Squares</td>  <th>  F-statistic:       </th> <td>   33.58</td>\n",
       "</tr>\n",
       "<tr>\n",
       "  <th>Date:</th>             <td>Thu, 18 May 2023</td> <th>  Prob (F-statistic):</th> <td>1.21e-08</td>\n",
       "</tr>\n",
       "<tr>\n",
       "  <th>Time:</th>                 <td>12:25:03</td>     <th>  Log-Likelihood:    </th> <td> -1823.9</td>\n",
       "</tr>\n",
       "<tr>\n",
       "  <th>No. Observations:</th>      <td>   506</td>      <th>  AIC:               </th> <td>   3652.</td>\n",
       "</tr>\n",
       "<tr>\n",
       "  <th>Df Residuals:</th>          <td>   504</td>      <th>  BIC:               </th> <td>   3660.</td>\n",
       "</tr>\n",
       "<tr>\n",
       "  <th>Df Model:</th>              <td>     1</td>      <th>                     </th>     <td> </td>   \n",
       "</tr>\n",
       "<tr>\n",
       "  <th>Covariance Type:</th>      <td>nonrobust</td>    <th>                     </th>     <td> </td>   \n",
       "</tr>\n",
       "</table>\n",
       "<table class=\"simpletable\">\n",
       "<tr>\n",
       "    <td></td>       <th>coef</th>     <th>std err</th>      <th>t</th>      <th>P>|t|</th>  <th>[0.025</th>    <th>0.975]</th>  \n",
       "</tr>\n",
       "<tr>\n",
       "  <th>const</th> <td>   18.3901</td> <td>    0.817</td> <td>   22.499</td> <td> 0.000</td> <td>   16.784</td> <td>   19.996</td>\n",
       "</tr>\n",
       "<tr>\n",
       "  <th>DIS</th>   <td>    1.0916</td> <td>    0.188</td> <td>    5.795</td> <td> 0.000</td> <td>    0.722</td> <td>    1.462</td>\n",
       "</tr>\n",
       "</table>\n",
       "<table class=\"simpletable\">\n",
       "<tr>\n",
       "  <th>Omnibus:</th>       <td>139.779</td> <th>  Durbin-Watson:     </th> <td>   0.570</td>\n",
       "</tr>\n",
       "<tr>\n",
       "  <th>Prob(Omnibus):</th> <td> 0.000</td>  <th>  Jarque-Bera (JB):  </th> <td> 305.104</td>\n",
       "</tr>\n",
       "<tr>\n",
       "  <th>Skew:</th>          <td> 1.466</td>  <th>  Prob(JB):          </th> <td>5.59e-67</td>\n",
       "</tr>\n",
       "<tr>\n",
       "  <th>Kurtosis:</th>      <td> 5.424</td>  <th>  Cond. No.          </th> <td>    9.32</td>\n",
       "</tr>\n",
       "</table><br/><br/>Notes:<br/>[1] Standard Errors assume that the covariance matrix of the errors is correctly specified."
      ],
      "text/plain": [
       "<class 'statsmodels.iolib.summary.Summary'>\n",
       "\"\"\"\n",
       "                            OLS Regression Results                            \n",
       "==============================================================================\n",
       "Dep. Variable:                   MEDV   R-squared:                       0.062\n",
       "Model:                            OLS   Adj. R-squared:                  0.061\n",
       "Method:                 Least Squares   F-statistic:                     33.58\n",
       "Date:                Thu, 18 May 2023   Prob (F-statistic):           1.21e-08\n",
       "Time:                        12:25:03   Log-Likelihood:                -1823.9\n",
       "No. Observations:                 506   AIC:                             3652.\n",
       "Df Residuals:                     504   BIC:                             3660.\n",
       "Df Model:                           1                                         \n",
       "Covariance Type:            nonrobust                                         \n",
       "==============================================================================\n",
       "                 coef    std err          t      P>|t|      [0.025      0.975]\n",
       "------------------------------------------------------------------------------\n",
       "const         18.3901      0.817     22.499      0.000      16.784      19.996\n",
       "DIS            1.0916      0.188      5.795      0.000       0.722       1.462\n",
       "==============================================================================\n",
       "Omnibus:                      139.779   Durbin-Watson:                   0.570\n",
       "Prob(Omnibus):                  0.000   Jarque-Bera (JB):              305.104\n",
       "Skew:                           1.466   Prob(JB):                     5.59e-67\n",
       "Kurtosis:                       5.424   Cond. No.                         9.32\n",
       "==============================================================================\n",
       "\n",
       "Notes:\n",
       "[1] Standard Errors assume that the covariance matrix of the errors is correctly specified.\n",
       "\"\"\""
      ]
     },
     "execution_count": 11,
     "metadata": {},
     "output_type": "execute_result"
    }
   ],
   "source": [
    "x = boston_df['DIS']\n",
    "y = boston_df['MEDV']\n",
    "x = sm.add_constant(x)\n",
    "model = sm.OLS(y, x).fit()\n",
    "predisction = model.predict(x)\n",
    "model.summary()"
   ]
  }
 ],
 "metadata": {
  "kernelspec": {
   "display_name": "Python 3 (ipykernel)",
   "language": "python",
   "name": "python3"
  },
  "language_info": {
   "codemirror_mode": {
    "name": "ipython",
    "version": 3
   },
   "file_extension": ".py",
   "mimetype": "text/x-python",
   "name": "python",
   "nbconvert_exporter": "python",
   "pygments_lexer": "ipython3",
   "version": "3.9.12"
  }
 },
 "nbformat": 4,
 "nbformat_minor": 5
}
